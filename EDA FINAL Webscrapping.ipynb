{
 "cells": [
  {
   "cell_type": "code",
   "execution_count": 3,
   "id": "d0346c01",
   "metadata": {},
   "outputs": [],
   "source": [
    "import pandas as pd\n",
    "import numpy as np\n",
    "import requests\n",
    "import matplotlib.pyplot\n",
    "import seaborn as sns\n",
    "from bs4 import BeautifulSoup\n",
    "import re"
   ]
  },
  {
   "cell_type": "code",
   "execution_count": 5,
   "id": "e175d639",
   "metadata": {},
   "outputs": [
    {
     "name": "stdout",
     "output_type": "stream",
     "text": [
      "<Response [200]>\n"
     ]
    }
   ],
   "source": [
    "url =\"https://www.forbes.com/lists/global2000/?sh=1193656d5ac0\"\n",
    "\n",
    "requests.get(url,headers = {'User-Agent':'Mozilla/5.0'})\n",
    "headers = {\"Accept-Language\": \"en-US,en;q=0.9\"}\n",
    "page=requests.get(url, headers=headers)\n",
    "print(page)\n",
    "\n",
    "soup = BeautifulSoup(page.text)\n",
    "\n",
    "soup.find_all(\"div\", class_=\"header-group\")[0].text\n",
    "\n",
    "column_data = soup.find_all(\"div\",class_=\"table-row-group\")\n",
    "\n",
    "data_list = []\n",
    "for row in column_data[:20]:\n",
    "    row_data=row.find_all('div')\n",
    "    world_column_titles= [title.text.strip() for title in row_data]\n",
    "    \n",
    "    for i in world_column_titles:\n",
    "        data_list.append(i)\n",
    "\n",
    "    \n",
    "ranks = data_list[0::7]\n",
    "Ranks = [i.rstrip('.')  for i in ranks]\n",
    "\n",
    "Names = data_list[1::7]\n",
    "\n",
    "Country = data_list[2::7]\n",
    "\n",
    "sales = data_list[3::7]\n",
    "sales1 = [i.rstrip(' B') for i in sales]\n",
    "Sales = [i.lstrip('$') for i in sales1]\n",
    "Sales = [float(i[:-2])*0.001 if i.endswith(' M') else float(i) for i in Sales]\n",
    "\n",
    "\n",
    "profit = data_list[4::7]\n",
    "profit1 = [i.lstrip('$') for i in profit]\n",
    "Profit = [i.rstrip(' B') for i in profit1]\n",
    "Profit = [float(i[:-2])*0.001 if i.endswith(' M') else float(i) for i in Profit]\n",
    "\n",
    "\n",
    "assets = data_list[5::7]\n",
    "assets1 = [i.lstrip('$') for i in assets]\n",
    "Assets = [i.rstrip(' B') for i in assets1]\n",
    "Assets = [i.replace(',', '') for i in Assets]\n",
    "Assets = [float(i[:-2])*0.001 if i.endswith(' M') else float(i) for i in Assets]\n",
    "\n",
    "\n",
    "market_value = data_list[6::7]\n",
    "market_value1 = [i.lstrip('$') for i in market_value]\n",
    "Market_Value  = [i.rstrip(' B') for i in market_value1]\n",
    "Market_Value = [i.replace(',','') for i in Market_Value]\n",
    "Market_Value = [float(i[:-2])*0.001 if i.endswith(' M') else float(i) for i in Market_Value]\n",
    "\n",
    "\n",
    "df = pd.DataFrame({\n",
    "                  \"Company_Name\":Names,\n",
    "                  \"Country\":Country,\n",
    "                  \"Sales($B)\":Sales,\n",
    "                  \"Profit($B)\":Profit,\n",
    "                  \"Assets($B)\":Assets,\n",
    "                  \"Market_Value($B)\":Market_Value,\n",
    "                    \"Ranks\":Ranks})\n",
    "\n",
    "df[\"Profit/Loss\"]=np.where(df[\"Profit($B)\"]>0,\"Profit\",\"Loss\")\n",
    "\n",
    "df['Ranks']= df['Ranks'].astype('int')\n",
    "\n",
    "df.to_csv(\"Fortune companies.csv\")\n",
    "\n",
    "\n",
    "\n",
    "\n"
   ]
  },
  {
   "cell_type": "code",
   "execution_count": null,
   "id": "576a3bd3",
   "metadata": {},
   "outputs": [],
   "source": []
  }
 ],
 "metadata": {
  "kernelspec": {
   "display_name": "Python 3 (ipykernel)",
   "language": "python",
   "name": "python3"
  },
  "language_info": {
   "codemirror_mode": {
    "name": "ipython",
    "version": 3
   },
   "file_extension": ".py",
   "mimetype": "text/x-python",
   "name": "python",
   "nbconvert_exporter": "python",
   "pygments_lexer": "ipython3",
   "version": "3.11.4"
  }
 },
 "nbformat": 4,
 "nbformat_minor": 5
}
